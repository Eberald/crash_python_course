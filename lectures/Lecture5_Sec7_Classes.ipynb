{
 "cells": [
  {
   "cell_type": "markdown",
   "id": "5487fefe",
   "metadata": {},
   "source": [
    "# Section 7 - Basics of OOP: Classes\n",
    "\n",
    "As the name suggests, Object-Oriented Programming or OOPs refers to languages that use objects in programming. Object-oriented programming aims to implement real-world entities like inheritance, hiding, polymorphism, etc in programming. The main aim of OOP is to bind together the data and the functions that operate on them so that no other part of the code can access this data except that function. (_Geeks For Geeks_)\n",
    "\n",
    "* To make the development and maintenance of projects more effortless. \n",
    "* To provide the feature of data hiding that is good for security concerns.  \n",
    "* We can solve real-world problems if we are using object-oriented programming. \n",
    "* It ensures code reusability. \n",
    "* It lets us write generic code: which will work with a range of data, so we don’t have to write basic stuff over and over again.\n",
    "\n",
    "| | **IS** | **HAS** | **DOES** |\n",
    "|-|--------|---------|----------|\n",
    "| **Concept**| What type of _entity_ (abstract or real) should the object describe? | What are the attributes that define such _entity_ | What actions shuold it be able to perform? |\n",
    "| **Hyper-uranium** | class definition | class attributes | class methods |\n",
    "| **Manifestation** | instance | instance attributes | instance methods |\n",
    "\n",
    "What about Python?\n",
    "\n",
    "* Basic python data types, like ``int`` and ``float``, may be used to **build more sophisticated mathematical objects**, such as complex numbers, fractions, matrices\n",
    "* Such high-level objects do have **their own behaviours and rules**: how to perform sums, multiplications, subtractions, *et cetera*\n",
    "* **A python ```class```** is a way to build high-level objects putting together the variables that define them and the functions that determine their behaviour\n"
   ]
  },
  {
   "cell_type": "markdown",
   "id": "68c40313",
   "metadata": {},
   "source": [
    "## Class\n",
    "- `class`\n",
    "- `self` (even though you can use whatever)"
   ]
  },
  {
   "cell_type": "code",
   "execution_count": null,
   "id": "c2340545",
   "metadata": {},
   "outputs": [],
   "source": [
    "class Point():\n",
    "    def __init__(self, x, y):\n",
    "        self.x = x\n",
    "        self.y = y\n",
    "        \n",
    "    def method_with_no_arg(self): # if you remove self --> error\n",
    "        print(\"no args!\")\n",
    "    \n",
    "    def update(self, x, y): # do I really need this?\n",
    "        self.x = x\n",
    "        self.y = y\n",
    "    \n",
    "    def print(self): # is this pythonic?\n",
    "        print(self.x, self.y)\n",
    "        \n",
    "    def equal(self, other): # is this pythonic?\n",
    "        return (self.x, self.y) == (other.x, other.y)\n",
    "\n",
    "p = Point(1,2)\n",
    "print(p.x,p.y)"
   ]
  },
  {
   "cell_type": "code",
   "execution_count": null,
   "id": "38dd2659",
   "metadata": {},
   "outputs": [],
   "source": [
    "p.update(7,8)\n",
    "p.print()\n",
    "\n",
    "p.x, p.y = 0,0\n",
    "p.print()"
   ]
  },
  {
   "cell_type": "code",
   "execution_count": null,
   "id": "63df2eab",
   "metadata": {},
   "outputs": [],
   "source": [
    "p.method_with_no_arg()"
   ]
  },
  {
   "cell_type": "code",
   "execution_count": null,
   "id": "6963476e",
   "metadata": {},
   "outputs": [],
   "source": [
    "p2 = Point(1,0)\n",
    "p.equal(p2)"
   ]
  },
  {
   "cell_type": "markdown",
   "id": "08fd821c",
   "metadata": {},
   "source": [
    "## The pythonic way\n",
    "\n",
    "**Function overloading** is a basic concept of OOP: some operation that might be defined for a broad set of classes will have a specific behaviour for a particular type of object.\n",
    "\n",
    "This programming paradigm is achieved by re-defining the behaviour of the specific function for a custom class"
   ]
  },
  {
   "cell_type": "code",
   "execution_count": null,
   "id": "71ac83ad",
   "metadata": {},
   "outputs": [],
   "source": [
    "class Point():\n",
    "    '''Documention of class Point'''\n",
    "    def __init__(self, x,y):\n",
    "        self.x = x\n",
    "        self.y = y\n",
    "            \n",
    "    def __str__(self):\n",
    "        #return str((self.x,self.y))\n",
    "        return f'Point:\\nx={self.x}\\ny={self.y}'\n",
    "    \n",
    "    def __eq__(self, other):\n",
    "        #return self.x == other.x and self.y == other.y\n",
    "        return (self.x,self.y) == (other.x, other.y)\n",
    "        "
   ]
  },
  {
   "cell_type": "code",
   "execution_count": null,
   "id": "a73bda5b",
   "metadata": {},
   "outputs": [],
   "source": [
    "p = Point(3,4)\n",
    "print(p)"
   ]
  },
  {
   "cell_type": "code",
   "execution_count": null,
   "id": "8239e87d",
   "metadata": {},
   "outputs": [],
   "source": [
    "p2 = Point(4,5)\n",
    "p == p2"
   ]
  },
  {
   "cell_type": "code",
   "execution_count": null,
   "id": "3bc64e43",
   "metadata": {},
   "outputs": [],
   "source": [
    "p2.x, p2.y = 3 ,4\n",
    "p == p2"
   ]
  },
  {
   "cell_type": "code",
   "execution_count": null,
   "id": "06ea4498",
   "metadata": {},
   "outputs": [],
   "source": [
    "help(p)"
   ]
  },
  {
   "cell_type": "markdown",
   "id": "89847065",
   "metadata": {},
   "source": [
    "### Difference between ``__repr__`` and ``__str__``\n",
    "\n",
    "* ``__repr__`` is for the prorgrammer, the **string representation** should make it possible to re-create an object equal to the original one.\n",
    "* ``__str__`` this representation enables any user to understand the data contained in the object. Usually, it’s simpler and easier to read for a user.\n",
    "\n",
    "```python\n",
    "def __str__ (self) :\n",
    "    return f'Point:\\nx={self.x}\\ny={self.y}'\n",
    "def __repr__ (self) :\n",
    "    return f'{type(self)}({self.x}, {self.y})'\n",
    "```\n",
    "\n",
    "While ``__str__`` is redirected to the stdout by the ``print`` function, to get ``__repr__`` we should use the ``repr`` function "
   ]
  },
  {
   "cell_type": "code",
   "execution_count": null,
   "id": "d81da502",
   "metadata": {},
   "outputs": [],
   "source": [
    "class Point():\n",
    "    '''Documention of class Point'''\n",
    "    def __init__(self, x,y):\n",
    "        self.x = x\n",
    "        self.y = y\n",
    "            \n",
    "    def __str__(self):\n",
    "        return f'Point:\\nx={self.x}\\ny={self.y}'\n",
    "    \n",
    "    def __repr__ (self) :\n",
    "        return f'{type(self).__name__}({self.x}, {self.y})'\n",
    "    \n",
    "    def __eq__(self, other):\n",
    "        return (self.x,self.y) == (other.x, other.y)"
   ]
  },
  {
   "cell_type": "code",
   "execution_count": null,
   "id": "54a12b60",
   "metadata": {},
   "outputs": [],
   "source": [
    "p = Point(3,4)"
   ]
  },
  {
   "cell_type": "code",
   "execution_count": null,
   "id": "802a183d",
   "metadata": {},
   "outputs": [],
   "source": [
    "p"
   ]
  },
  {
   "cell_type": "markdown",
   "id": "1ee4e432",
   "metadata": {},
   "source": [
    "The ``eval`` built-in function executes a **python command** written in a string"
   ]
  },
  {
   "cell_type": "code",
   "execution_count": null,
   "id": "04fe37a1",
   "metadata": {},
   "outputs": [],
   "source": [
    "p == eval(repr(p))"
   ]
  },
  {
   "cell_type": "code",
   "execution_count": null,
   "id": "f6371ec7",
   "metadata": {},
   "outputs": [],
   "source": [
    "print(p)"
   ]
  }
 ],
 "metadata": {
  "kernelspec": {
   "display_name": "Python 3 (ipykernel)",
   "language": "python",
   "name": "python3"
  },
  "language_info": {
   "codemirror_mode": {
    "name": "ipython",
    "version": 3
   },
   "file_extension": ".py",
   "mimetype": "text/x-python",
   "name": "python",
   "nbconvert_exporter": "python",
   "pygments_lexer": "ipython3",
   "version": "3.10.10"
  }
 },
 "nbformat": 4,
 "nbformat_minor": 5
}
